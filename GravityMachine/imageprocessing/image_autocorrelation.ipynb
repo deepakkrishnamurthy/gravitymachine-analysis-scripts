{
 "cells": [
  {
   "cell_type": "code",
   "execution_count": 1,
   "metadata": {},
   "outputs": [],
   "source": [
    "'''\n",
    "Calculate auto-correlation for a series of images\n",
    "'''\n",
    "import cv2\n",
    "import numpy as np\n",
    "from scipy import signal\n",
    "import os\n"
   ]
  },
  {
   "cell_type": "code",
   "execution_count": 3,
   "metadata": {},
   "outputs": [
    {
     "name": "stdout",
     "output_type": "stream",
     "text": [
      "['0_0_2_bf.tif', '0_0_83_bf.tif', '0_0_194_bf.tif', '0_0_198_bf.tif', '0_0_186_bf.tif', '0_0_91_bf.tif', '0_0_62_bf.tif', '0_0_175_bf.tif', '0_0_108_bf.tif', '0_0_116_bf.tif', '0_0_167_bf.tif', '0_0_70_bf.tif', '0_0_179_bf.tif', '0_0_13_bf.tif', '0_0_104_bf.tif', '0_0_46_bf.tif', '0_0_151_bf.tif', '0_0_58_bf.tif', '0_0_132_bf.tif', '0_0_25_bf.tif', '0_0_143_bf.tif', '0_0_54_bf.tif', '0_0_29_bf.tif', '0_0_37_bf.tif', '0_0_120_bf.tif', '0_0_11_bf.tif', '0_0_106_bf.tif', '0_0_165_bf.tif', '0_0_72_bf.tif', '0_0_118_bf.tif', '0_0_169_bf.tif', '0_0_114_bf.tif', '0_0_60_bf.tif', '0_0_177_bf.tif', '0_0_48_bf.tif', '0_0_35_bf.tif', '0_0_122_bf.tif', '0_0_141_bf.tif', '0_0_56_bf.tif', '0_0_130_bf.tif', '0_0_27_bf.tif', '0_0_44_bf.tif', '0_0_153_bf.tif', '0_0_39_bf.tif', '0_0_184_bf.tif', '0_0_93_bf.tif', '0_0_0_bf.tif', '0_0_81_bf.tif', '0_0_196_bf.tif', '0_0_188_bf.tif', '0_0_134_bf.tif', '0_0_23_bf.tif', '0_0_149_bf.tif', '0_0_40_bf.tif', '0_0_157_bf.tif', '0_0_31_bf.tif', '0_0_126_bf.tif', '0_0_138_bf.tif', '0_0_145_bf.tif', '0_0_52_bf.tif', '0_0_110_bf.tif', '0_0_19_bf.tif', '0_0_64_bf.tif', '0_0_173_bf.tif', '0_0_15_bf.tif', '0_0_102_bf.tif', '0_0_68_bf.tif', '0_0_161_bf.tif', '0_0_76_bf.tif', '0_0_85_bf.tif', '0_0_192_bf.tif', '0_0_4_bf.tif', '0_0_180_bf.tif', '0_0_97_bf.tif', '0_0_89_bf.tif', '0_0_8_bf.tif', '0_0_182_bf.tif', '0_0_95_bf.tif', '0_0_99_bf.tif', '0_0_87_bf.tif', '0_0_190_bf.tif', '0_0_6_bf.tif', '0_0_147_bf.tif', '0_0_50_bf.tif', '0_0_33_bf.tif', '0_0_124_bf.tif', '0_0_159_bf.tif', '0_0_128_bf.tif', '0_0_42_bf.tif', '0_0_155_bf.tif', '0_0_136_bf.tif', '0_0_21_bf.tif', '0_0_163_bf.tif', '0_0_74_bf.tif', '0_0_17_bf.tif', '0_0_100_bf.tif', '0_0_66_bf.tif', '0_0_171_bf.tif', '0_0_112_bf.tif', '0_0_78_bf.tif', '0_0_133_bf.tif', '0_0_24_bf.tif', '0_0_59_bf.tif', '0_0_47_bf.tif', '0_0_150_bf.tif', '0_0_36_bf.tif', '0_0_121_bf.tif', '0_0_28_bf.tif', '0_0_142_bf.tif', '0_0_55_bf.tif', '0_0_117_bf.tif', '0_0_109_bf.tif', '0_0_63_bf.tif', '0_0_174_bf.tif', '0_0_12_bf.tif', '0_0_105_bf.tif', '0_0_178_bf.tif', '0_0_166_bf.tif', '0_0_71_bf.tif', '0_0_82_bf.tif', '0_0_195_bf.tif', '0_0_3_bf.tif', '0_0_187_bf.tif', '0_0_90_bf.tif', '0_0_199_bf.tif', '0_0_185_bf.tif', '0_0_92_bf.tif', '0_0_189_bf.tif', '0_0_80_bf.tif', '0_0_197_bf.tif', '0_0_1_bf.tif', '0_0_140_bf.tif', '0_0_57_bf.tif', '0_0_34_bf.tif', '0_0_123_bf.tif', '0_0_49_bf.tif', '0_0_38_bf.tif', '0_0_45_bf.tif', '0_0_152_bf.tif', '0_0_131_bf.tif', '0_0_26_bf.tif', '0_0_119_bf.tif', '0_0_164_bf.tif', '0_0_73_bf.tif', '0_0_10_bf.tif', '0_0_107_bf.tif', '0_0_61_bf.tif', '0_0_176_bf.tif', '0_0_115_bf.tif', '0_0_168_bf.tif', '0_0_5_bf.tif', '0_0_84_bf.tif', '0_0_193_bf.tif', '0_0_9_bf.tif', '0_0_88_bf.tif', '0_0_181_bf.tif', '0_0_96_bf.tif', '0_0_200_bf.tif', '0_0_65_bf.tif', '0_0_172_bf.tif', '0_0_18_bf.tif', '0_0_111_bf.tif', '0_0_160_bf.tif', '0_0_77_bf.tif', '0_0_69_bf.tif', '0_0_14_bf.tif', '0_0_103_bf.tif', '0_0_41_bf.tif', '0_0_156_bf.tif', '0_0_148_bf.tif', '0_0_135_bf.tif', '0_0_22_bf.tif', '0_0_144_bf.tif', '0_0_53_bf.tif', '0_0_139_bf.tif', '0_0_30_bf.tif', '0_0_127_bf.tif', '0_0_16_bf.tif', '0_0_101_bf.tif', '0_0_162_bf.tif', '0_0_75_bf.tif', '0_0_79_bf.tif', '0_0_113_bf.tif', '0_0_67_bf.tif', '0_0_170_bf.tif', '0_0_158_bf.tif', '0_0_32_bf.tif', '0_0_125_bf.tif', '0_0_146_bf.tif', '0_0_51_bf.tif', '0_0_137_bf.tif', '0_0_20_bf.tif', '0_0_43_bf.tif', '0_0_154_bf.tif', '0_0_129_bf.tif', '0_0_183_bf.tif', '0_0_94_bf.tif', '0_0_7_bf.tif', '0_0_86_bf.tif', '0_0_191_bf.tif', '0_0_98_bf.tif']\n",
      "0_0_0_bf.tif\n",
      "(783, 783)\n",
      "0_0_100_bf.tif\n",
      "(783, 783)\n",
      "0_0_101_bf.tif\n",
      "(783, 783)\n"
     ]
    },
    {
     "data": {
      "text/plain": [
       "-1"
      ]
     },
     "execution_count": 3,
     "metadata": {},
     "output_type": "execute_result"
    }
   ],
   "source": [
    "path = '/Users/deepak/Dropbox/GravityMachine/FocusTracking/two-hole aperture/pyro 10x 1.1 mm, 1um dz, 201 points_2020-01-23 17-51-4.544342/cropped'\n",
    "\n",
    "\n",
    "FileList = os.listdir(path)\n",
    "\n",
    "print(FileList)\n",
    "\n",
    "FileList.sort()\n",
    "\n",
    "count = 0\n",
    "nImages = 1\n",
    "for file in FileList:\n",
    "    \n",
    "    \n",
    "\n",
    "    \n",
    "    print(file)\n",
    "    \n",
    "    image = cv2.imread(os.path.join(path, file),0)\n",
    "    \n",
    "    print(np.shape(image))\n",
    "    \n",
    "    \n",
    "    cv2.imshow('Image', image)\n",
    "    cv2.waitKey(1)\n",
    "    \n",
    "    \n",
    "    auto_corr = signal.correlate2d(image, image, mode = 'valid')\n",
    "    \n",
    "    \n",
    "    \n",
    "    if(count>nImages):\n",
    "        break\n",
    "    \n",
    "    count+=1\n",
    "    \n",
    "    \n",
    "cv2.imshow('auto-corr', auto_corr)\n",
    "cv2.waitKey(1)\n",
    "    \n",
    "    \n",
    "\n"
   ]
  },
  {
   "cell_type": "code",
   "execution_count": null,
   "metadata": {},
   "outputs": [],
   "source": []
  }
 ],
 "metadata": {
  "kernelspec": {
   "display_name": "Python 3",
   "language": "python",
   "name": "python3"
  },
  "language_info": {
   "codemirror_mode": {
    "name": "ipython",
    "version": 3
   },
   "file_extension": ".py",
   "mimetype": "text/x-python",
   "name": "python",
   "nbconvert_exporter": "python",
   "pygments_lexer": "ipython3",
   "version": "3.7.3"
  }
 },
 "nbformat": 4,
 "nbformat_minor": 2
}
